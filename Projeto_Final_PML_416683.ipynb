{
 "cells": [
  {
   "cell_type": "code",
   "execution_count": 1,
   "metadata": {},
   "outputs": [],
   "source": [
    "from meu_modelo import RegLinBayesiana\n",
    "\n",
    "import pandas as pd\n",
    "import numpy as np\n",
    "from sklearn.datasets import fetch_openml\n",
    "import jupyterthemes\n",
    "import matplotlib.pyplot as plt\n",
    "import seaborn as sns\n",
    "from sklearn.model_selection import train_test_split\n",
    "from sklearn.model_selection import cross_val_score\n",
    "from sklearn.metrics import mean_squared_error\n",
    "from sklearn.preprocessing import PolynomialFeatures\n",
    "from sklearn.preprocessing import StandardScaler\n",
    "from sklearn.ensemble import RandomForestRegressor as RF\n",
    "import warnings\n",
    "from bayes_opt import BayesianOptimization\n",
    "\n",
    "\n",
    "jupyterthemes.stylefx.set_nb_theme('grade3')\n",
    "plt.style.use('seaborn-whitegrid')\n"
   ]
  },
  {
   "cell_type": "markdown",
   "metadata": {},
   "source": [
    "# Avaliação de técnicas probabilísticas para regressão em dados de características pessoais e fatores dietéticos"
   ]
  },
  {
   "cell_type": "markdown",
   "metadata": {},
   "source": [
    "# Contextualização\n",
    "\n",
    "\n",
    "* Estudos observacionais sugerem que baixas concentrações plasmáticas de retinol, beta-caroteno ou outros carotenóides podem estar associados a um maior risco de desenvolver câncer.\n",
    "\n",
    "* Este estudo tem como objetivo investigar a relação entre características pessoais e fatores dietéticos e a concentração plasmática de retinol.\n"
   ]
  },
  {
   "cell_type": "markdown",
   "metadata": {},
   "source": [
    "## Descrição dos dados Usados \n",
    "\n",
    "(https://www.openml.org/d/511)\n",
    "\n",
    " \n",
    "\n",
    "**O conjunto de dados usado possui 315 entradas, 13 atributos preditores e 1 atributo alvo. Sendo os atributos Idade, Sexo e Fumante categóricos e os outros numéricos, inclusive o alvo.**\n",
    "\n",
    "\n",
    "|**Descrição dos atributos**|\n",
    "|-------------------------|\n",
    "|AGE: Idade em anos (years)|\n",
    "|SEX: Sexo (1=Masc, 2=Fem)|\n",
    "|SMOKSTAT: Status de fumante (1=Nunca, 2=Ex-fumante, 3=Fumante)|\n",
    "|QUETELET: IMC (PESO/(ALTURA^2))|\n",
    "|VITUSE: Uso de vitamina (1=Sim, com frequência, 2=Yes, pouca frequência, 3=Não)|\n",
    "|CALORIES: Calorias consumidas por dia.|\n",
    "|FAT: Gramas de gordura consumidas por dia.|\n",
    "|FIBER: Gramas de fibra consumidas por dia.|\n",
    "|ALCOHOL: Quantidade de drinks alcoólicos consumidos por semana.|\n",
    "|CHOLESTEROL: Coleterol consumido (mg por dia).|\n",
    "|BETADIET: Betacaroteno na dieta consumido (mcg por dia).|\n",
    "|RETDIET: Retinol na dieta consumido (mcg por dia)|\n",
    "|BETAPLASMA: Plasma Betacaroteno (ng/ml)|\n",
    "|RETPLASMA: Plasma Retinol (ng/ml) (ALVO)|\n",
    "\n",
    "    "
   ]
  },
  {
   "cell_type": "markdown",
   "metadata": {},
   "source": [
    "### Detalhamento da metodologia\n",
    "\n",
    "\n",
    "Na primeira parte deste estudo será usado modelo de Regressão Linear Bayesiana com implementação própria usando orientação a objetos, que será comparado com um modelo modelo linear equivalente de regressão biblioteca scikit-learn.\n",
    "\n",
    "\n",
    "Na segunda parte será usado a técnica de Otimização Bayesiana com um modelo de árvores mais complexo, o de Florestas Aleatórias, com o objetivo de avaliar a técnica de Otimização Bayesiana para este problema de regressão, comparando os resultados do modelo antes e depois do procedimento de otimização. Para o procedimento de otmização será utilizada a biblioteca \"bayes_opt\".\n",
    "\n",
    "\n",
    "Nas duas partes da aplicação dos modelos serão usadas, bibliotecas clássicas do Python para o processo de aprendizado de máquina, tratamento, exploração, pré-processamento, seleção e avaliação de modelos: pandas e scikit-learn.\n"
   ]
  },
  {
   "cell_type": "code",
   "execution_count": 2,
   "metadata": {},
   "outputs": [],
   "source": [
    "# Load data\n",
    "plasma_retinol = fetch_openml(name='plasma_retinol',version = 1,as_frame=True)\n",
    "X = plasma_retinol.data\n",
    "y = plasma_retinol.target"
   ]
  },
  {
   "cell_type": "code",
   "execution_count": 3,
   "metadata": {},
   "outputs": [
    {
     "data": {
      "text/html": [
       "<div>\n",
       "<style scoped>\n",
       "    .dataframe tbody tr th:only-of-type {\n",
       "        vertical-align: middle;\n",
       "    }\n",
       "\n",
       "    .dataframe tbody tr th {\n",
       "        vertical-align: top;\n",
       "    }\n",
       "\n",
       "    .dataframe thead th {\n",
       "        text-align: right;\n",
       "    }\n",
       "</style>\n",
       "<table border=\"1\" class=\"dataframe\">\n",
       "  <thead>\n",
       "    <tr style=\"text-align: right;\">\n",
       "      <th></th>\n",
       "      <th>AGE</th>\n",
       "      <th>SEX</th>\n",
       "      <th>SMOKSTAT</th>\n",
       "      <th>QUETELET</th>\n",
       "      <th>VITUSE</th>\n",
       "      <th>CALORIES</th>\n",
       "      <th>FAT</th>\n",
       "      <th>FIBER</th>\n",
       "      <th>ALCOHOL</th>\n",
       "      <th>CHOLESTEROL</th>\n",
       "      <th>BETADIET</th>\n",
       "      <th>RETDIET</th>\n",
       "      <th>BETAPLASMA</th>\n",
       "    </tr>\n",
       "  </thead>\n",
       "  <tbody>\n",
       "    <tr>\n",
       "      <th>0</th>\n",
       "      <td>64.0</td>\n",
       "      <td>Female</td>\n",
       "      <td>Former</td>\n",
       "      <td>21.48380</td>\n",
       "      <td>Yes_fairly_often</td>\n",
       "      <td>1298.8</td>\n",
       "      <td>57.0</td>\n",
       "      <td>6.3</td>\n",
       "      <td>0.0</td>\n",
       "      <td>170.3</td>\n",
       "      <td>1945.0</td>\n",
       "      <td>890.0</td>\n",
       "      <td>200.0</td>\n",
       "    </tr>\n",
       "    <tr>\n",
       "      <th>1</th>\n",
       "      <td>76.0</td>\n",
       "      <td>Female</td>\n",
       "      <td>Never</td>\n",
       "      <td>23.87631</td>\n",
       "      <td>Yes_fairly_often</td>\n",
       "      <td>1032.5</td>\n",
       "      <td>50.1</td>\n",
       "      <td>15.8</td>\n",
       "      <td>0.0</td>\n",
       "      <td>75.8</td>\n",
       "      <td>2653.0</td>\n",
       "      <td>451.0</td>\n",
       "      <td>124.0</td>\n",
       "    </tr>\n",
       "    <tr>\n",
       "      <th>2</th>\n",
       "      <td>38.0</td>\n",
       "      <td>Female</td>\n",
       "      <td>Former</td>\n",
       "      <td>20.01080</td>\n",
       "      <td>Yes_not_often</td>\n",
       "      <td>2372.3</td>\n",
       "      <td>83.6</td>\n",
       "      <td>19.1</td>\n",
       "      <td>14.1</td>\n",
       "      <td>257.9</td>\n",
       "      <td>6321.0</td>\n",
       "      <td>660.0</td>\n",
       "      <td>328.0</td>\n",
       "    </tr>\n",
       "    <tr>\n",
       "      <th>3</th>\n",
       "      <td>40.0</td>\n",
       "      <td>Female</td>\n",
       "      <td>Former</td>\n",
       "      <td>25.14062</td>\n",
       "      <td>No</td>\n",
       "      <td>2449.5</td>\n",
       "      <td>97.5</td>\n",
       "      <td>26.5</td>\n",
       "      <td>0.5</td>\n",
       "      <td>332.6</td>\n",
       "      <td>1061.0</td>\n",
       "      <td>864.0</td>\n",
       "      <td>153.0</td>\n",
       "    </tr>\n",
       "    <tr>\n",
       "      <th>4</th>\n",
       "      <td>72.0</td>\n",
       "      <td>Female</td>\n",
       "      <td>Never</td>\n",
       "      <td>20.98504</td>\n",
       "      <td>Yes_fairly_often</td>\n",
       "      <td>1952.1</td>\n",
       "      <td>82.6</td>\n",
       "      <td>16.2</td>\n",
       "      <td>0.0</td>\n",
       "      <td>170.8</td>\n",
       "      <td>2863.0</td>\n",
       "      <td>1209.0</td>\n",
       "      <td>92.0</td>\n",
       "    </tr>\n",
       "  </tbody>\n",
       "</table>\n",
       "</div>"
      ],
      "text/plain": [
       "    AGE     SEX SMOKSTAT  QUETELET            VITUSE  CALORIES   FAT  FIBER  \\\n",
       "0  64.0  Female   Former  21.48380  Yes_fairly_often    1298.8  57.0    6.3   \n",
       "1  76.0  Female    Never  23.87631  Yes_fairly_often    1032.5  50.1   15.8   \n",
       "2  38.0  Female   Former  20.01080     Yes_not_often    2372.3  83.6   19.1   \n",
       "3  40.0  Female   Former  25.14062                No    2449.5  97.5   26.5   \n",
       "4  72.0  Female    Never  20.98504  Yes_fairly_often    1952.1  82.6   16.2   \n",
       "\n",
       "   ALCOHOL  CHOLESTEROL  BETADIET  RETDIET  BETAPLASMA  \n",
       "0      0.0        170.3    1945.0    890.0       200.0  \n",
       "1      0.0         75.8    2653.0    451.0       124.0  \n",
       "2     14.1        257.9    6321.0    660.0       328.0  \n",
       "3      0.5        332.6    1061.0    864.0       153.0  \n",
       "4      0.0        170.8    2863.0   1209.0        92.0  "
      ]
     },
     "execution_count": 3,
     "metadata": {},
     "output_type": "execute_result"
    }
   ],
   "source": [
    "X.head()"
   ]
  },
  {
   "cell_type": "code",
   "execution_count": 4,
   "metadata": {
    "scrolled": true
   },
   "outputs": [
    {
     "name": "stdout",
     "output_type": "stream",
     "text": [
      "<class 'pandas.core.frame.DataFrame'>\n",
      "RangeIndex: 315 entries, 0 to 314\n",
      "Data columns (total 13 columns):\n",
      " #   Column       Non-Null Count  Dtype   \n",
      "---  ------       --------------  -----   \n",
      " 0   AGE          315 non-null    float64 \n",
      " 1   SEX          315 non-null    category\n",
      " 2   SMOKSTAT     315 non-null    category\n",
      " 3   QUETELET     315 non-null    float64 \n",
      " 4   VITUSE       315 non-null    category\n",
      " 5   CALORIES     315 non-null    float64 \n",
      " 6   FAT          315 non-null    float64 \n",
      " 7   FIBER        315 non-null    float64 \n",
      " 8   ALCOHOL      315 non-null    float64 \n",
      " 9   CHOLESTEROL  315 non-null    float64 \n",
      " 10  BETADIET     315 non-null    float64 \n",
      " 11  RETDIET      315 non-null    float64 \n",
      " 12  BETAPLASMA   315 non-null    float64 \n",
      "dtypes: category(3), float64(10)\n",
      "memory usage: 26.0 KB\n"
     ]
    }
   ],
   "source": [
    "X.info()"
   ]
  },
  {
   "cell_type": "markdown",
   "metadata": {},
   "source": [
    "**Exploração atributos categóricos.**"
   ]
  },
  {
   "cell_type": "code",
   "execution_count": 5,
   "metadata": {},
   "outputs": [
    {
     "data": {
      "image/png": "[encoded data removed]",
      "text/plain": [
       "<Figure size 1080x360 with 3 Axes>"
      ]
     },
     "metadata": {},
     "output_type": "display_data"
    }
   ],
   "source": [
    "fig, axes = plt.subplots(1,3,figsize=(15,5))\n",
    "sns.countplot(ax= axes[0], x=\"SEX\", data=X, color='#0033CC')\n",
    "sns.countplot(ax= axes[1], x=\"SMOKSTAT\", data=X,color='#0033CC')\n",
    "sns.countplot(ax= axes[2], x=\"VITUSE\", data=X, color='#0033CC')\n",
    "fig.suptitle('Contagem dos atributos categóricos')\n",
    "plt.savefig('contagem')\n",
    "plt.show()\n"
   ]
  },
  {
   "cell_type": "markdown",
   "metadata": {},
   "source": [
    "**Tratamento de atributos categóricos (\"One hot encoding\")**"
   ]
  },
  {
   "cell_type": "code",
   "execution_count": 6,
   "metadata": {},
   "outputs": [],
   "source": [
    "cat = X.select_dtypes(include='category', exclude=None).columns.to_list()\n",
    "\n",
    "X_d = pd.get_dummies(X, columns=cat)"
   ]
  },
  {
   "cell_type": "markdown",
   "metadata": {},
   "source": [
    "**Separação em dados de treino e de teste (30%)**"
   ]
  },
  {
   "cell_type": "code",
   "execution_count": 7,
   "metadata": {},
   "outputs": [],
   "source": [
    "X_train, X_test, y_train , y_test = train_test_split(X_d, y, test_size = 0.3, random_state = 13)"
   ]
  },
  {
   "cell_type": "markdown",
   "metadata": {},
   "source": [
    "**Exploração dos atributos numéricos**"
   ]
  },
  {
   "cell_type": "code",
   "execution_count": 8,
   "metadata": {
    "scrolled": true
   },
   "outputs": [
    {
     "data": {
      "image/png": "[encoded data removed]",
      "text/plain": [
       "<Figure size 1440x1080 with 12 Axes>"
      ]
     },
     "metadata": {},
     "output_type": "display_data"
    }
   ],
   "source": [
    "num = X.select_dtypes(include='float', exclude=None).columns.to_list()\n",
    "\n",
    "X_train[num].hist(bins=50,figsize = (20,15),color='#0033CC')\n",
    "plt.suptitle('Observando a distribuição dos atributos numéricos',size=30)\n",
    "plt.savefig('histogramas')\n",
    "plt.show()\n",
    "\n"
   ]
  },
  {
   "cell_type": "markdown",
   "metadata": {},
   "source": [
    "**Remoção de outliers**"
   ]
  },
  {
   "cell_type": "code",
   "execution_count": 9,
   "metadata": {
    "scrolled": false
   },
   "outputs": [
    {
     "name": "stdout",
     "output_type": "stream",
     "text": [
      "Os dados de treino tem 220 entradas antes da remoção.\n",
      "Os dados de treino tem 210 entradas após a remoção.\n"
     ]
    }
   ],
   "source": [
    "print(\"Os dados de treino tem {} entradas antes da remoção.\".format(len(X_train)))\n",
    "for col in num:\n",
    "    mean = X_train[col].mean()\n",
    "    std = X_train[col].std()\n",
    "    cut = mean + 4*std\n",
    "    X_train = X_train[X_train[col] < cut]\n",
    "\n",
    "print(\"Os dados de treino tem {} entradas após a remoção.\".format(len(X_train)))\n",
    "\n",
    "y_train = y_train[X_train.index]\n",
    "    "
   ]
  },
  {
   "cell_type": "markdown",
   "metadata": {},
   "source": [
    "**Normalização**"
   ]
  },
  {
   "cell_type": "code",
   "execution_count": 10,
   "metadata": {},
   "outputs": [],
   "source": [
    "scaler = StandardScaler()\n",
    "scaler.fit(X_train)\n",
    "X_train = scaler.transform(X_train)\n",
    "X_test = scaler.transform(X_test)"
   ]
  },
  {
   "cell_type": "markdown",
   "metadata": {},
   "source": [
    "**Aplicação modelo Regressão Linear Bayesiana**"
   ]
  },
  {
   "cell_type": "code",
   "execution_count": 11,
   "metadata": {},
   "outputs": [
    {
     "name": "stdout",
     "output_type": "stream",
     "text": [
      "A raiz do erro quadrático médio do modelo para estes dados é: 278.28183486622305.\n"
     ]
    }
   ],
   "source": [
    "model = RegLinBayesiana(alpha=5 ,beta=0.05)\n",
    "model.fit(X_train, y_train)\n",
    "y_mean, y_std = model.predict(X_test)\n",
    "rmse = np.sqrt(mean_squared_error(y_test, y_mean))\n",
    "print(\"A raiz do erro quadrático médio do modelo para estes dados é: {}.\".format(rmse))"
   ]
  },
  {
   "cell_type": "code",
   "execution_count": 12,
   "metadata": {
    "scrolled": true
   },
   "outputs": [
    {
     "data": {
      "text/html": [
       "<div>\n",
       "<style scoped>\n",
       "    .dataframe tbody tr th:only-of-type {\n",
       "        vertical-align: middle;\n",
       "    }\n",
       "\n",
       "    .dataframe tbody tr th {\n",
       "        vertical-align: top;\n",
       "    }\n",
       "\n",
       "    .dataframe thead th {\n",
       "        text-align: right;\n",
       "    }\n",
       "</style>\n",
       "<table border=\"1\" class=\"dataframe\">\n",
       "  <thead>\n",
       "    <tr style=\"text-align: right;\">\n",
       "      <th></th>\n",
       "      <th>y_test</th>\n",
       "      <th>y_mean</th>\n",
       "      <th>y_std</th>\n",
       "    </tr>\n",
       "  </thead>\n",
       "  <tbody>\n",
       "    <tr>\n",
       "      <th>0</th>\n",
       "      <td>572.0</td>\n",
       "      <td>529.475507</td>\n",
       "      <td>4.597720</td>\n",
       "    </tr>\n",
       "    <tr>\n",
       "      <th>1</th>\n",
       "      <td>679.0</td>\n",
       "      <td>590.037457</td>\n",
       "      <td>4.620548</td>\n",
       "    </tr>\n",
       "    <tr>\n",
       "      <th>2</th>\n",
       "      <td>559.0</td>\n",
       "      <td>503.324592</td>\n",
       "      <td>4.550911</td>\n",
       "    </tr>\n",
       "    <tr>\n",
       "      <th>3</th>\n",
       "      <td>520.0</td>\n",
       "      <td>556.998406</td>\n",
       "      <td>4.595945</td>\n",
       "    </tr>\n",
       "    <tr>\n",
       "      <th>4</th>\n",
       "      <td>599.0</td>\n",
       "      <td>611.544850</td>\n",
       "      <td>4.613799</td>\n",
       "    </tr>\n",
       "    <tr>\n",
       "      <th>5</th>\n",
       "      <td>609.0</td>\n",
       "      <td>720.740841</td>\n",
       "      <td>5.462003</td>\n",
       "    </tr>\n",
       "    <tr>\n",
       "      <th>6</th>\n",
       "      <td>344.0</td>\n",
       "      <td>574.297913</td>\n",
       "      <td>4.670033</td>\n",
       "    </tr>\n",
       "    <tr>\n",
       "      <th>7</th>\n",
       "      <td>449.0</td>\n",
       "      <td>423.617056</td>\n",
       "      <td>4.593365</td>\n",
       "    </tr>\n",
       "    <tr>\n",
       "      <th>8</th>\n",
       "      <td>783.0</td>\n",
       "      <td>611.849310</td>\n",
       "      <td>4.636332</td>\n",
       "    </tr>\n",
       "    <tr>\n",
       "      <th>9</th>\n",
       "      <td>466.0</td>\n",
       "      <td>609.053245</td>\n",
       "      <td>4.692759</td>\n",
       "    </tr>\n",
       "    <tr>\n",
       "      <th>10</th>\n",
       "      <td>489.0</td>\n",
       "      <td>523.879433</td>\n",
       "      <td>4.608703</td>\n",
       "    </tr>\n",
       "    <tr>\n",
       "      <th>11</th>\n",
       "      <td>634.0</td>\n",
       "      <td>443.858639</td>\n",
       "      <td>4.560379</td>\n",
       "    </tr>\n",
       "    <tr>\n",
       "      <th>12</th>\n",
       "      <td>648.0</td>\n",
       "      <td>593.035219</td>\n",
       "      <td>4.620272</td>\n",
       "    </tr>\n",
       "    <tr>\n",
       "      <th>13</th>\n",
       "      <td>770.0</td>\n",
       "      <td>708.584295</td>\n",
       "      <td>4.684573</td>\n",
       "    </tr>\n",
       "    <tr>\n",
       "      <th>14</th>\n",
       "      <td>506.0</td>\n",
       "      <td>515.222594</td>\n",
       "      <td>4.557334</td>\n",
       "    </tr>\n",
       "    <tr>\n",
       "      <th>15</th>\n",
       "      <td>434.0</td>\n",
       "      <td>422.918179</td>\n",
       "      <td>4.639132</td>\n",
       "    </tr>\n",
       "    <tr>\n",
       "      <th>16</th>\n",
       "      <td>522.0</td>\n",
       "      <td>608.177733</td>\n",
       "      <td>4.657605</td>\n",
       "    </tr>\n",
       "    <tr>\n",
       "      <th>17</th>\n",
       "      <td>498.0</td>\n",
       "      <td>566.914097</td>\n",
       "      <td>4.672044</td>\n",
       "    </tr>\n",
       "    <tr>\n",
       "      <th>18</th>\n",
       "      <td>407.0</td>\n",
       "      <td>680.232513</td>\n",
       "      <td>4.613551</td>\n",
       "    </tr>\n",
       "    <tr>\n",
       "      <th>19</th>\n",
       "      <td>369.0</td>\n",
       "      <td>626.452469</td>\n",
       "      <td>4.559819</td>\n",
       "    </tr>\n",
       "    <tr>\n",
       "      <th>20</th>\n",
       "      <td>537.0</td>\n",
       "      <td>644.294722</td>\n",
       "      <td>4.687139</td>\n",
       "    </tr>\n",
       "    <tr>\n",
       "      <th>21</th>\n",
       "      <td>393.0</td>\n",
       "      <td>490.154919</td>\n",
       "      <td>4.629288</td>\n",
       "    </tr>\n",
       "    <tr>\n",
       "      <th>22</th>\n",
       "      <td>578.0</td>\n",
       "      <td>553.555215</td>\n",
       "      <td>4.584084</td>\n",
       "    </tr>\n",
       "    <tr>\n",
       "      <th>23</th>\n",
       "      <td>824.0</td>\n",
       "      <td>490.216119</td>\n",
       "      <td>4.545505</td>\n",
       "    </tr>\n",
       "    <tr>\n",
       "      <th>24</th>\n",
       "      <td>927.0</td>\n",
       "      <td>508.396017</td>\n",
       "      <td>4.722933</td>\n",
       "    </tr>\n",
       "    <tr>\n",
       "      <th>25</th>\n",
       "      <td>1193.0</td>\n",
       "      <td>615.948712</td>\n",
       "      <td>4.906543</td>\n",
       "    </tr>\n",
       "    <tr>\n",
       "      <th>26</th>\n",
       "      <td>531.0</td>\n",
       "      <td>428.043783</td>\n",
       "      <td>4.602481</td>\n",
       "    </tr>\n",
       "    <tr>\n",
       "      <th>27</th>\n",
       "      <td>1102.0</td>\n",
       "      <td>402.942333</td>\n",
       "      <td>4.591292</td>\n",
       "    </tr>\n",
       "    <tr>\n",
       "      <th>28</th>\n",
       "      <td>399.0</td>\n",
       "      <td>517.967099</td>\n",
       "      <td>4.648087</td>\n",
       "    </tr>\n",
       "    <tr>\n",
       "      <th>29</th>\n",
       "      <td>557.0</td>\n",
       "      <td>467.037929</td>\n",
       "      <td>4.664443</td>\n",
       "    </tr>\n",
       "    <tr>\n",
       "      <th>30</th>\n",
       "      <td>549.0</td>\n",
       "      <td>504.065905</td>\n",
       "      <td>4.705844</td>\n",
       "    </tr>\n",
       "    <tr>\n",
       "      <th>31</th>\n",
       "      <td>701.0</td>\n",
       "      <td>618.799355</td>\n",
       "      <td>4.552346</td>\n",
       "    </tr>\n",
       "    <tr>\n",
       "      <th>32</th>\n",
       "      <td>507.0</td>\n",
       "      <td>607.168087</td>\n",
       "      <td>4.609933</td>\n",
       "    </tr>\n",
       "    <tr>\n",
       "      <th>33</th>\n",
       "      <td>258.0</td>\n",
       "      <td>549.369600</td>\n",
       "      <td>4.531914</td>\n",
       "    </tr>\n",
       "    <tr>\n",
       "      <th>34</th>\n",
       "      <td>523.0</td>\n",
       "      <td>631.446110</td>\n",
       "      <td>4.687862</td>\n",
       "    </tr>\n",
       "    <tr>\n",
       "      <th>35</th>\n",
       "      <td>422.0</td>\n",
       "      <td>580.807587</td>\n",
       "      <td>4.683871</td>\n",
       "    </tr>\n",
       "    <tr>\n",
       "      <th>36</th>\n",
       "      <td>560.0</td>\n",
       "      <td>628.719012</td>\n",
       "      <td>4.576227</td>\n",
       "    </tr>\n",
       "    <tr>\n",
       "      <th>37</th>\n",
       "      <td>400.0</td>\n",
       "      <td>437.809332</td>\n",
       "      <td>4.611244</td>\n",
       "    </tr>\n",
       "    <tr>\n",
       "      <th>38</th>\n",
       "      <td>179.0</td>\n",
       "      <td>418.705509</td>\n",
       "      <td>4.772498</td>\n",
       "    </tr>\n",
       "    <tr>\n",
       "      <th>39</th>\n",
       "      <td>1002.0</td>\n",
       "      <td>662.443481</td>\n",
       "      <td>5.007951</td>\n",
       "    </tr>\n",
       "  </tbody>\n",
       "</table>\n",
       "</div>"
      ],
      "text/plain": [
       "    y_test      y_mean     y_std\n",
       "0    572.0  529.475507  4.597720\n",
       "1    679.0  590.037457  4.620548\n",
       "2    559.0  503.324592  4.550911\n",
       "3    520.0  556.998406  4.595945\n",
       "4    599.0  611.544850  4.613799\n",
       "5    609.0  720.740841  5.462003\n",
       "6    344.0  574.297913  4.670033\n",
       "7    449.0  423.617056  4.593365\n",
       "8    783.0  611.849310  4.636332\n",
       "9    466.0  609.053245  4.692759\n",
       "10   489.0  523.879433  4.608703\n",
       "11   634.0  443.858639  4.560379\n",
       "12   648.0  593.035219  4.620272\n",
       "13   770.0  708.584295  4.684573\n",
       "14   506.0  515.222594  4.557334\n",
       "15   434.0  422.918179  4.639132\n",
       "16   522.0  608.177733  4.657605\n",
       "17   498.0  566.914097  4.672044\n",
       "18   407.0  680.232513  4.613551\n",
       "19   369.0  626.452469  4.559819\n",
       "20   537.0  644.294722  4.687139\n",
       "21   393.0  490.154919  4.629288\n",
       "22   578.0  553.555215  4.584084\n",
       "23   824.0  490.216119  4.545505\n",
       "24   927.0  508.396017  4.722933\n",
       "25  1193.0  615.948712  4.906543\n",
       "26   531.0  428.043783  4.602481\n",
       "27  1102.0  402.942333  4.591292\n",
       "28   399.0  517.967099  4.648087\n",
       "29   557.0  467.037929  4.664443\n",
       "30   549.0  504.065905  4.705844\n",
       "31   701.0  618.799355  4.552346\n",
       "32   507.0  607.168087  4.609933\n",
       "33   258.0  549.369600  4.531914\n",
       "34   523.0  631.446110  4.687862\n",
       "35   422.0  580.807587  4.683871\n",
       "36   560.0  628.719012  4.576227\n",
       "37   400.0  437.809332  4.611244\n",
       "38   179.0  418.705509  4.772498\n",
       "39  1002.0  662.443481  5.007951"
      ]
     },
     "execution_count": 12,
     "metadata": {},
     "output_type": "execute_result"
    }
   ],
   "source": [
    "result = pd.DataFrame(data={'y_test':y_test,'y_mean':y_mean,'y_std':y_std})\n",
    "result.reset_index(inplace=True, drop = True)\n",
    "result.head(40)"
   ]
  },
  {
   "cell_type": "markdown",
   "metadata": {},
   "source": [
    "**Aplicação modelo comparativo de Regressão Linear**"
   ]
  },
  {
   "cell_type": "code",
   "execution_count": 13,
   "metadata": {},
   "outputs": [
    {
     "name": "stdout",
     "output_type": "stream",
     "text": [
      "A raiz do erro quadrático médio do modelo para estes dados é: 298.16326506843944.\n"
     ]
    }
   ],
   "source": [
    "from sklearn.linear_model import LinearRegression\n",
    "model1 = LinearRegression()\n",
    "model1.fit(X_train, y_train)\n",
    "y_pred= model1.predict(X_test)\n",
    "rmse1 = np.sqrt(mean_squared_error(y_pred,y_test))\n",
    "print(\"A raiz do erro quadrático médio do modelo para estes dados é: {}.\".format(rmse1))"
   ]
  },
  {
   "cell_type": "markdown",
   "metadata": {},
   "source": [
    "## Otimização bayesiana de Random Forest"
   ]
  },
  {
   "cell_type": "markdown",
   "metadata": {},
   "source": [
    "<br><br>\n",
    "• Instanciando modelo de floresta aleatória para regressão com parâmetros n_estimators, min_samples_split, and max_features para ser utlizado na validação cruzada junto com as entradas e o alvo.\n",
    "<br>\n",
    "<br>\n",
    "<br>\n",
    "• Objetivo: achar combinação de parâmetros do modelo que minimiza o ngativo da raiz do erro quadrático médio.\n",
    "<br><br><br>\n",
    "• Retorna o resultado da validação cruzada.\n",
    "\n"
   ]
  },
  {
   "cell_type": "code",
   "execution_count": 14,
   "metadata": {},
   "outputs": [],
   "source": [
    "def rf_cv(n_estimators, min_samples_split, max_features, data, targets):\n",
    "    \n",
    "    estimator = RF(\n",
    "        n_estimators=n_estimators,\n",
    "        min_samples_split=min_samples_split,\n",
    "        max_features=max_features,\n",
    "        random_state=2\n",
    "    )\n",
    "    cval = cross_val_score(estimator, data, targets,\n",
    "                           scoring='neg_root_mean_squared_error', cv=4)\n",
    "    return cval.mean()"
   ]
  },
  {
   "cell_type": "markdown",
   "metadata": {},
   "source": [
    "Aplicação da Otimização Bayesiana para os parâmetros do Modelo."
   ]
  },
  {
   "cell_type": "code",
   "execution_count": 15,
   "metadata": {},
   "outputs": [],
   "source": [
    "def optimize_rf(data, targets):\n",
    "    \n",
    "    def rf_crossval(n_estimators, min_samples_split, max_features):\n",
    "        \"\"\"Wrapper of RandomForest cross validation.\n",
    "        Notice how we ensure n_estimators and min_samples_split are casted\n",
    "        to integer before we pass them along. Moreover, to avoid max_features\n",
    "        taking values outside the (0, 1) range, we also ensure it is capped\n",
    "        accordingly.\n",
    "        \"\"\"\n",
    "        return rf_cv(\n",
    "            n_estimators=int(n_estimators),\n",
    "            min_samples_split=int(min_samples_split),\n",
    "            max_features=max(min(max_features, 0.999), 1e-3),\n",
    "            \n",
    "            \n",
    "            data=data,\n",
    "            targets=targets,\n",
    "        )\n",
    "\n",
    "    optimizer = BayesianOptimization(\n",
    "        f=rf_crossval,\n",
    "        pbounds={\n",
    "            \"n_estimators\": (10, 500),\n",
    "            \"min_samples_split\": (2, 25),\n",
    "            \"max_features\": (0.1, 0.999)\n",
    "            \n",
    "        },\n",
    "        random_state=1234,\n",
    "        verbose=2\n",
    "    )\n",
    "    optimizer.maximize(n_iter=30,init_points=3)\n",
    "    return optimizer\n",
    "    \n"
   ]
  },
  {
   "cell_type": "markdown",
   "metadata": {},
   "source": [
    "/\\ Parâmetros do otimizador: n_iter=100,init_points=3"
   ]
  },
  {
   "cell_type": "code",
   "execution_count": 16,
   "metadata": {
    "scrolled": false
   },
   "outputs": [
    {
     "name": "stdout",
     "output_type": "stream",
     "text": [
      "|   iter    |  target   | max_fe... | min_sa... | n_esti... |\n",
      "-------------------------------------------------------------\n",
      "| \u001b[0m 1       \u001b[0m | \u001b[0m-195.3   \u001b[0m | \u001b[0m 0.2722  \u001b[0m | \u001b[0m 16.31   \u001b[0m | \u001b[0m 224.5   \u001b[0m |\n",
      "| \u001b[0m 2       \u001b[0m | \u001b[0m-198.1   \u001b[0m | \u001b[0m 0.806   \u001b[0m | \u001b[0m 19.94   \u001b[0m | \u001b[0m 143.6   \u001b[0m |\n",
      "| \u001b[0m 3       \u001b[0m | \u001b[0m-195.8   \u001b[0m | \u001b[0m 0.3485  \u001b[0m | \u001b[0m 20.44   \u001b[0m | \u001b[0m 479.5   \u001b[0m |\n",
      "| \u001b[0m 4       \u001b[0m | \u001b[0m-198.4   \u001b[0m | \u001b[0m 0.7304  \u001b[0m | \u001b[0m 15.38   \u001b[0m | \u001b[0m 225.4   \u001b[0m |\n",
      "| \u001b[0m 5       \u001b[0m | \u001b[0m-198.6   \u001b[0m | \u001b[0m 0.9241  \u001b[0m | \u001b[0m 16.19   \u001b[0m | \u001b[0m 153.1   \u001b[0m |\n",
      "| \u001b[0m 6       \u001b[0m | \u001b[0m-198.2   \u001b[0m | \u001b[0m 0.8985  \u001b[0m | \u001b[0m 23.55   \u001b[0m | \u001b[0m 139.7   \u001b[0m |\n",
      "| \u001b[0m 7       \u001b[0m | \u001b[0m-198.1   \u001b[0m | \u001b[0m 0.3412  \u001b[0m | \u001b[0m 4.032   \u001b[0m | \u001b[0m 97.03   \u001b[0m |\n",
      "| \u001b[95m 8       \u001b[0m | \u001b[95m-194.7   \u001b[0m | \u001b[95m 0.1913  \u001b[0m | \u001b[95m 20.42   \u001b[0m | \u001b[95m 479.7   \u001b[0m |\n",
      "| \u001b[0m 9       \u001b[0m | \u001b[0m-199.0   \u001b[0m | \u001b[0m 0.8429  \u001b[0m | \u001b[0m 16.24   \u001b[0m | \u001b[0m 224.9   \u001b[0m |\n",
      "| \u001b[0m 10      \u001b[0m | \u001b[0m-200.7   \u001b[0m | \u001b[0m 0.7674  \u001b[0m | \u001b[0m 5.795   \u001b[0m | \u001b[0m 396.0   \u001b[0m |\n",
      "| \u001b[95m 11      \u001b[0m | \u001b[95m-194.6   \u001b[0m | \u001b[95m 0.197   \u001b[0m | \u001b[95m 16.07   \u001b[0m | \u001b[95m 224.1   \u001b[0m |\n",
      "| \u001b[0m 12      \u001b[0m | \u001b[0m-197.6   \u001b[0m | \u001b[0m 0.655   \u001b[0m | \u001b[0m 16.37   \u001b[0m | \u001b[0m 223.9   \u001b[0m |\n",
      "| \u001b[0m 13      \u001b[0m | \u001b[0m-198.0   \u001b[0m | \u001b[0m 0.4881  \u001b[0m | \u001b[0m 15.32   \u001b[0m | \u001b[0m 328.9   \u001b[0m |\n",
      "| \u001b[0m 14      \u001b[0m | \u001b[0m-197.7   \u001b[0m | \u001b[0m 0.5851  \u001b[0m | \u001b[0m 21.77   \u001b[0m | \u001b[0m 273.1   \u001b[0m |\n",
      "| \u001b[0m 15      \u001b[0m | \u001b[0m-197.7   \u001b[0m | \u001b[0m 0.6604  \u001b[0m | \u001b[0m 20.32   \u001b[0m | \u001b[0m 479.4   \u001b[0m |\n",
      "| \u001b[0m 16      \u001b[0m | \u001b[0m-198.1   \u001b[0m | \u001b[0m 0.8367  \u001b[0m | \u001b[0m 20.75   \u001b[0m | \u001b[0m 480.4   \u001b[0m |\n",
      "| \u001b[0m 17      \u001b[0m | \u001b[0m-198.1   \u001b[0m | \u001b[0m 0.7022  \u001b[0m | \u001b[0m 15.73   \u001b[0m | \u001b[0m 224.2   \u001b[0m |\n",
      "| \u001b[0m 18      \u001b[0m | \u001b[0m-198.0   \u001b[0m | \u001b[0m 0.5297  \u001b[0m | \u001b[0m 16.4    \u001b[0m | \u001b[0m 148.1   \u001b[0m |\n",
      "| \u001b[0m 19      \u001b[0m | \u001b[0m-198.2   \u001b[0m | \u001b[0m 0.9076  \u001b[0m | \u001b[0m 24.84   \u001b[0m | \u001b[0m 333.0   \u001b[0m |\n",
      "| \u001b[0m 20      \u001b[0m | \u001b[0m-195.3   \u001b[0m | \u001b[0m 0.2864  \u001b[0m | \u001b[0m 16.74   \u001b[0m | \u001b[0m 224.7   \u001b[0m |\n",
      "| \u001b[0m 21      \u001b[0m | \u001b[0m-196.4   \u001b[0m | \u001b[0m 0.3708  \u001b[0m | \u001b[0m 16.89   \u001b[0m | \u001b[0m 225.3   \u001b[0m |\n",
      "| \u001b[0m 22      \u001b[0m | \u001b[0m-195.2   \u001b[0m | \u001b[0m 0.2518  \u001b[0m | \u001b[0m 16.21   \u001b[0m | \u001b[0m 223.6   \u001b[0m |\n",
      "| \u001b[0m 23      \u001b[0m | \u001b[0m-195.5   \u001b[0m | \u001b[0m 0.2283  \u001b[0m | \u001b[0m 17.59   \u001b[0m | \u001b[0m 224.2   \u001b[0m |\n",
      "| \u001b[0m 24      \u001b[0m | \u001b[0m-195.5   \u001b[0m | \u001b[0m 0.2574  \u001b[0m | \u001b[0m 17.24   \u001b[0m | \u001b[0m 223.2   \u001b[0m |\n",
      "| \u001b[0m 25      \u001b[0m | \u001b[0m-197.5   \u001b[0m | \u001b[0m 0.562   \u001b[0m | \u001b[0m 18.1    \u001b[0m | \u001b[0m 223.6   \u001b[0m |\n",
      "| \u001b[0m 26      \u001b[0m | \u001b[0m-197.6   \u001b[0m | \u001b[0m 0.6558  \u001b[0m | \u001b[0m 17.01   \u001b[0m | \u001b[0m 222.4   \u001b[0m |\n",
      "| \u001b[0m 27      \u001b[0m | \u001b[0m-196.1   \u001b[0m | \u001b[0m 0.2576  \u001b[0m | \u001b[0m 8.05    \u001b[0m | \u001b[0m 371.6   \u001b[0m |\n",
      "| \u001b[0m 28      \u001b[0m | \u001b[0m-199.2   \u001b[0m | \u001b[0m 0.3969  \u001b[0m | \u001b[0m 4.54    \u001b[0m | \u001b[0m 34.4    \u001b[0m |\n",
      "| \u001b[0m 29      \u001b[0m | \u001b[0m-195.4   \u001b[0m | \u001b[0m 0.2897  \u001b[0m | \u001b[0m 20.06   \u001b[0m | \u001b[0m 479.8   \u001b[0m |\n",
      "| \u001b[95m 30      \u001b[0m | \u001b[95m-194.0   \u001b[0m | \u001b[95m 0.1925  \u001b[0m | \u001b[95m 15.32   \u001b[0m | \u001b[95m 223.8   \u001b[0m |\n",
      "| \u001b[0m 31      \u001b[0m | \u001b[0m-194.7   \u001b[0m | \u001b[0m 0.3251  \u001b[0m | \u001b[0m 14.18   \u001b[0m | \u001b[0m 223.2   \u001b[0m |\n",
      "| \u001b[0m 32      \u001b[0m | \u001b[0m-200.1   \u001b[0m | \u001b[0m 0.8474  \u001b[0m | \u001b[0m 14.73   \u001b[0m | \u001b[0m 222.9   \u001b[0m |\n",
      "| \u001b[0m 33      \u001b[0m | \u001b[0m-194.0   \u001b[0m | \u001b[0m 0.1914  \u001b[0m | \u001b[0m 15.41   \u001b[0m | \u001b[0m 223.7   \u001b[0m |\n",
      "=============================================================\n"
     ]
    }
   ],
   "source": [
    "best = optimize_rf(X_train,y_train)"
   ]
  },
  {
   "cell_type": "code",
   "execution_count": 17,
   "metadata": {
    "scrolled": false
   },
   "outputs": [
    {
     "data": {
      "text/plain": [
       "{'max_features': 0.19252364468326622,\n",
       " 'min_samples_split': 15.324259509811448,\n",
       " 'n_estimators': 223.7642278994379}"
      ]
     },
     "execution_count": 17,
     "metadata": {},
     "output_type": "execute_result"
    }
   ],
   "source": [
    "best.max['params']"
   ]
  },
  {
   "cell_type": "markdown",
   "metadata": {},
   "source": [
    "**Random Forest sem otimização**"
   ]
  },
  {
   "cell_type": "code",
   "execution_count": 18,
   "metadata": {},
   "outputs": [
    {
     "name": "stdout",
     "output_type": "stream",
     "text": [
      "A raiz do erro quadrático médio do modelo para estes dados é: 229.86927726770915.\n"
     ]
    }
   ],
   "source": [
    "#Random Forest sem otimização\n",
    "modelo1 = RF()\n",
    "modelo1.fit(X_train, y_train)\n",
    "y_pred = modelo1.predict(X_test)\n",
    "rmse = np.sqrt(mean_squared_error(y_pred, y_test))\n",
    "\n",
    "print(\"A raiz do erro quadrático médio do modelo para estes dados é: {}.\".format(rmse))"
   ]
  },
  {
   "cell_type": "markdown",
   "metadata": {},
   "source": [
    "**Random Forest com otimização bayesiana**"
   ]
  },
  {
   "cell_type": "code",
   "execution_count": 19,
   "metadata": {},
   "outputs": [
    {
     "name": "stdout",
     "output_type": "stream",
     "text": [
      "A raiz do erro quadrático médio do modelo para estes dados é: 215.21037536284234.\n"
     ]
    }
   ],
   "source": [
    "max_features = best.max['params']['max_features']\n",
    "min_samples_split = best.max['params']['min_samples_split']\n",
    "n_estimators = best.max['params']['n_estimators']\n",
    "\n",
    "modelo = RF(max_features=max_features,min_samples_split=int(min_samples_split),n_estimators=int(n_estimators))\n",
    "\n",
    "modelo.fit(X_train, y_train)\n",
    "y_pred = modelo.predict(X_test)\n",
    "rmse = np.sqrt(mean_squared_error(y_pred, y_test))\n",
    "print(\"A raiz do erro quadrático médio do modelo para estes dados é: {}.\".format(rmse))"
   ]
  },
  {
   "cell_type": "markdown",
   "metadata": {},
   "source": [
    "## Análise dos Resultados parte 1\n",
    "* O modelo bayesiano tem rmse 278.28 e o modelo convencional tem rmse 298.16\n",
    "* A regressão bayesiana tem uma performance levemente melhor que o modelo convencional para este caso.\n",
    "* Além de melhorar o métrica de avaliação o modelo probabilístico ainda retorna uma medida \n",
    "de incerteza para cada valor predito.\n",
    "* A aplicação do modelo com atributos polinomais teve um pior desempenho para os dois modelos.\n",
    "\n",
    "\n",
    "## Análise dos Resultados parte 2\n",
    "\n",
    "* O modelo mais complexo de árvores tem uma performance consideravelmente melhor para a tarefa que os modelos anteriores.\n",
    "\n",
    "* O modelo otimizado tem uma performance levemente melhor, rmse 215.21, face ao modelo com parâmetros padrão da biblioteca com rmse 229.86\n",
    "\n",
    "## Considerações Finais\n",
    "\n",
    "Apesar da simplicidade do trabalho foi possível atingir os objetivos propostos: \n",
    "* Implementação de um modelo de regressão probabilístico que mesmo com uma implementação simples atingiu um bom resultado perante ao equivalente convencional. \n",
    "* Aplicação com sucesso de procedimento de otimização bayesiana para otimização de hiperparâmetros de modelos de aprendizado de máquina, procedimento esse que é parte importante do processo de aprendizado de máquina e pode ser utilizado em diversos outros contextos.\n",
    "\n"
   ]
  }
 ],
 "metadata": {
  "kernelspec": {
   "display_name": "Python 3",
   "language": "python",
   "name": "python3"
  },
  "language_info": {
   "codemirror_mode": {
    "name": "ipython",
    "version": 3
   },
   "file_extension": ".py",
   "mimetype": "text/x-python",
   "name": "python",
   "nbconvert_exporter": "python",
   "pygments_lexer": "ipython3",
   "version": "3.8.3"
  }
 },
 "nbformat": 4,
 "nbformat_minor": 4
}
